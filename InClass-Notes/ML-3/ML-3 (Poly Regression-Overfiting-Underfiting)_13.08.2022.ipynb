{
 "cells": [
  {
   "cell_type": "markdown",
   "id": "liquid-victory",
   "metadata": {
    "id": "liquid-victory"
   },
   "source": [
    "## Poliynomial Regression-Overfiting-Underfiting"
   ]
  },
  {
   "cell_type": "raw",
   "id": "06d0becc",
   "metadata": {
    "id": "06d0becc"
   },
   "source": [
    "Polynomial Regression is a form of regression analysis in which the relationship between the independent variables and dependent variables are modeled in the nth degree polynomial.\n",
    "\n",
    "Polinom Regresyon , bağımsız değişkenler ile bağımlı değişkenler arasındaki ilişkinin n'inci derece polinomda modellendiği bir regresyon analizi şeklidir.\n",
    "\n",
    "Types of polinomials\n",
    "\n",
    "1st degree ---> linear    b1x + b0\n",
    "\n",
    "2nd degree ---> Quadratic b2x**2 + b1x + b0\n",
    "\n",
    "3rd degree ---> Cubic     b3x**3 + b2x**2 + b1x + b0"
   ]
  },
  {
   "cell_type": "markdown",
   "id": "wanted-external",
   "metadata": {
    "id": "wanted-external"
   },
   "source": [
    "## Import libraries"
   ]
  },
  {
   "cell_type": "code",
   "execution_count": 1,
   "id": "faced-stranger",
   "metadata": {
    "executionInfo": {
     "elapsed": 1243,
     "status": "ok",
     "timestamp": 1651179040071,
     "user": {
      "displayName": "Matt Russo",
      "userId": "14188021989396943812"
     },
     "user_tz": -120
    },
    "id": "faced-stranger"
   },
   "outputs": [],
   "source": [
    "import numpy as np\n",
    "import pandas as pd\n",
    "import matplotlib.pyplot as plt\n",
    "import seaborn as sns\n",
    "plt.rcParams[\"figure.figsize\"] = (10,6)"
   ]
  },
  {
   "cell_type": "markdown",
   "id": "whole-bulgaria",
   "metadata": {
    "id": "whole-bulgaria"
   },
   "source": [
    "## Polynomial Features"
   ]
  },
  {
   "cell_type": "code",
   "execution_count": 2,
   "id": "proud-technician",
   "metadata": {
    "executionInfo": {
     "elapsed": 24,
     "status": "ok",
     "timestamp": 1651179040073,
     "user": {
      "displayName": "Matt Russo",
      "userId": "14188021989396943812"
     },
     "user_tz": -120
    },
    "id": "proud-technician"
   },
   "outputs": [],
   "source": [
    "from sklearn.preprocessing import PolynomialFeatures"
   ]
  },
  {
   "cell_type": "code",
   "execution_count": 3,
   "id": "willing-deposit",
   "metadata": {
    "colab": {
     "base_uri": "https://localhost:8080/"
    },
    "executionInfo": {
     "elapsed": 25,
     "status": "ok",
     "timestamp": 1651179040076,
     "user": {
      "displayName": "Matt Russo",
      "userId": "14188021989396943812"
     },
     "user_tz": -120
    },
    "id": "willing-deposit",
    "outputId": "eb38de07-2b92-4634-a14b-33a964f868a0"
   },
   "outputs": [
    {
     "name": "stdout",
     "output_type": "stream",
     "text": [
      "[[2 3 4]]\n"
     ]
    }
   ],
   "source": [
    "data = np.array([[2, 3, 4]]) \n",
    "print(data)"
   ]
  },
  {
   "cell_type": "code",
   "execution_count": 4,
   "id": "olive-launch",
   "metadata": {
    "executionInfo": {
     "elapsed": 43,
     "status": "ok",
     "timestamp": 1651179040456,
     "user": {
      "displayName": "Matt Russo",
      "userId": "14188021989396943812"
     },
     "user_tz": -120
    },
    "id": "olive-launch"
   },
   "outputs": [],
   "source": [
    "trans = PolynomialFeatures(degree = 2, include_bias =False)"
   ]
  },
  {
   "cell_type": "code",
   "execution_count": 5,
   "id": "understanding-torture",
   "metadata": {
    "colab": {
     "base_uri": "https://localhost:8080/"
    },
    "executionInfo": {
     "elapsed": 43,
     "status": "ok",
     "timestamp": 1651179040457,
     "user": {
      "displayName": "Matt Russo",
      "userId": "14188021989396943812"
     },
     "user_tz": -120
    },
    "id": "understanding-torture",
    "outputId": "aa92aac2-6c48-4716-b299-4bf4f1086bb5"
   },
   "outputs": [
    {
     "data": {
      "text/html": [
       "<style>#sk-container-id-1 {color: black;background-color: white;}#sk-container-id-1 pre{padding: 0;}#sk-container-id-1 div.sk-toggleable {background-color: white;}#sk-container-id-1 label.sk-toggleable__label {cursor: pointer;display: block;width: 100%;margin-bottom: 0;padding: 0.3em;box-sizing: border-box;text-align: center;}#sk-container-id-1 label.sk-toggleable__label-arrow:before {content: \"▸\";float: left;margin-right: 0.25em;color: #696969;}#sk-container-id-1 label.sk-toggleable__label-arrow:hover:before {color: black;}#sk-container-id-1 div.sk-estimator:hover label.sk-toggleable__label-arrow:before {color: black;}#sk-container-id-1 div.sk-toggleable__content {max-height: 0;max-width: 0;overflow: hidden;text-align: left;background-color: #f0f8ff;}#sk-container-id-1 div.sk-toggleable__content pre {margin: 0.2em;color: black;border-radius: 0.25em;background-color: #f0f8ff;}#sk-container-id-1 input.sk-toggleable__control:checked~div.sk-toggleable__content {max-height: 200px;max-width: 100%;overflow: auto;}#sk-container-id-1 input.sk-toggleable__control:checked~label.sk-toggleable__label-arrow:before {content: \"▾\";}#sk-container-id-1 div.sk-estimator input.sk-toggleable__control:checked~label.sk-toggleable__label {background-color: #d4ebff;}#sk-container-id-1 div.sk-label input.sk-toggleable__control:checked~label.sk-toggleable__label {background-color: #d4ebff;}#sk-container-id-1 input.sk-hidden--visually {border: 0;clip: rect(1px 1px 1px 1px);clip: rect(1px, 1px, 1px, 1px);height: 1px;margin: -1px;overflow: hidden;padding: 0;position: absolute;width: 1px;}#sk-container-id-1 div.sk-estimator {font-family: monospace;background-color: #f0f8ff;border: 1px dotted black;border-radius: 0.25em;box-sizing: border-box;margin-bottom: 0.5em;}#sk-container-id-1 div.sk-estimator:hover {background-color: #d4ebff;}#sk-container-id-1 div.sk-parallel-item::after {content: \"\";width: 100%;border-bottom: 1px solid gray;flex-grow: 1;}#sk-container-id-1 div.sk-label:hover label.sk-toggleable__label {background-color: #d4ebff;}#sk-container-id-1 div.sk-serial::before {content: \"\";position: absolute;border-left: 1px solid gray;box-sizing: border-box;top: 0;bottom: 0;left: 50%;z-index: 0;}#sk-container-id-1 div.sk-serial {display: flex;flex-direction: column;align-items: center;background-color: white;padding-right: 0.2em;padding-left: 0.2em;position: relative;}#sk-container-id-1 div.sk-item {position: relative;z-index: 1;}#sk-container-id-1 div.sk-parallel {display: flex;align-items: stretch;justify-content: center;background-color: white;position: relative;}#sk-container-id-1 div.sk-item::before, #sk-container-id-1 div.sk-parallel-item::before {content: \"\";position: absolute;border-left: 1px solid gray;box-sizing: border-box;top: 0;bottom: 0;left: 50%;z-index: -1;}#sk-container-id-1 div.sk-parallel-item {display: flex;flex-direction: column;z-index: 1;position: relative;background-color: white;}#sk-container-id-1 div.sk-parallel-item:first-child::after {align-self: flex-end;width: 50%;}#sk-container-id-1 div.sk-parallel-item:last-child::after {align-self: flex-start;width: 50%;}#sk-container-id-1 div.sk-parallel-item:only-child::after {width: 0;}#sk-container-id-1 div.sk-dashed-wrapped {border: 1px dashed gray;margin: 0 0.4em 0.5em 0.4em;box-sizing: border-box;padding-bottom: 0.4em;background-color: white;}#sk-container-id-1 div.sk-label label {font-family: monospace;font-weight: bold;display: inline-block;line-height: 1.2em;}#sk-container-id-1 div.sk-label-container {text-align: center;}#sk-container-id-1 div.sk-container {/* jupyter's `normalize.less` sets `[hidden] { display: none; }` but bootstrap.min.css set `[hidden] { display: none !important; }` so we also need the `!important` here to be able to override the default hidden behavior on the sphinx rendered scikit-learn.org. See: https://github.com/scikit-learn/scikit-learn/issues/21755 */display: inline-block !important;position: relative;}#sk-container-id-1 div.sk-text-repr-fallback {display: none;}</style><div id=\"sk-container-id-1\" class=\"sk-top-container\"><div class=\"sk-text-repr-fallback\"><pre>PolynomialFeatures(include_bias=False)</pre><b>In a Jupyter environment, please rerun this cell to show the HTML representation or trust the notebook. <br />On GitHub, the HTML representation is unable to render, please try loading this page with nbviewer.org.</b></div><div class=\"sk-container\" hidden><div class=\"sk-item\"><div class=\"sk-estimator sk-toggleable\"><input class=\"sk-toggleable__control sk-hidden--visually\" id=\"sk-estimator-id-1\" type=\"checkbox\" checked><label for=\"sk-estimator-id-1\" class=\"sk-toggleable__label sk-toggleable__label-arrow\">PolynomialFeatures</label><div class=\"sk-toggleable__content\"><pre>PolynomialFeatures(include_bias=False)</pre></div></div></div></div></div>"
      ],
      "text/plain": [
       "PolynomialFeatures(include_bias=False)"
      ]
     },
     "execution_count": 5,
     "metadata": {},
     "output_type": "execute_result"
    }
   ],
   "source": [
    "trans.fit(data) # 2, 3, 4 , 2x3, 2x4, 3x4, 2**2, 3**2, 4**2"
   ]
  },
  {
   "cell_type": "code",
   "execution_count": 6,
   "id": "3f324091",
   "metadata": {
    "executionInfo": {
     "elapsed": 46,
     "status": "ok",
     "timestamp": 1651179040461,
     "user": {
      "displayName": "Matt Russo",
      "userId": "14188021989396943812"
     },
     "user_tz": -120
    },
    "id": "3f324091"
   },
   "outputs": [],
   "source": [
    "# 2, 3, 4, 2x3, 2x4, 3x4, 2**2, 3**2, 4**2, 2x3x4, 3x2**2, 4x2**2, 2x3**2, 4x3**2, 2x4**2, 3x4**2, 2**3, 3**3, 4**3"
   ]
  },
  {
   "cell_type": "code",
   "execution_count": 7,
   "id": "exposed-sphere",
   "metadata": {
    "colab": {
     "base_uri": "https://localhost:8080/"
    },
    "executionInfo": {
     "elapsed": 48,
     "status": "ok",
     "timestamp": 1651179040464,
     "user": {
      "displayName": "Matt Russo",
      "userId": "14188021989396943812"
     },
     "user_tz": -120
    },
    "id": "exposed-sphere",
    "outputId": "ce97437a-667a-4761-d8fc-04d1335e67b5"
   },
   "outputs": [
    {
     "data": {
      "text/plain": [
       "array([[ 2.,  3.,  4.,  4.,  6.,  8.,  9., 12., 16.]])"
      ]
     },
     "execution_count": 7,
     "metadata": {},
     "output_type": "execute_result"
    }
   ],
   "source": [
    "trans.transform(data)"
   ]
  },
  {
   "cell_type": "code",
   "execution_count": 8,
   "id": "elder-assist",
   "metadata": {
    "colab": {
     "base_uri": "https://localhost:8080/"
    },
    "executionInfo": {
     "elapsed": 48,
     "status": "ok",
     "timestamp": 1651179040466,
     "user": {
      "displayName": "Matt Russo",
      "userId": "14188021989396943812"
     },
     "user_tz": -120
    },
    "id": "elder-assist",
    "outputId": "dc37d924-9751-49fb-e3f9-48775f3e84a3"
   },
   "outputs": [
    {
     "data": {
      "text/plain": [
       "array([[ 2.,  3.,  4.,  4.,  6.,  8.,  9., 12., 16.]])"
      ]
     },
     "execution_count": 8,
     "metadata": {},
     "output_type": "execute_result"
    }
   ],
   "source": [
    "trans.fit_transform(data)"
   ]
  },
  {
   "cell_type": "markdown",
   "id": "listed-startup",
   "metadata": {
    "id": "listed-startup"
   },
   "source": [
    "## Read Dataset"
   ]
  },
  {
   "cell_type": "code",
   "execution_count": 9,
   "id": "valued-brand",
   "metadata": {
    "executionInfo": {
     "elapsed": 46,
     "status": "ok",
     "timestamp": 1651179040468,
     "user": {
      "displayName": "Matt Russo",
      "userId": "14188021989396943812"
     },
     "user_tz": -120
    },
    "id": "valued-brand"
   },
   "outputs": [],
   "source": [
    "df = pd.read_csv(\"Advertising.csv\")"
   ]
  },
  {
   "cell_type": "code",
   "execution_count": 10,
   "id": "taken-taylor",
   "metadata": {
    "colab": {
     "base_uri": "https://localhost:8080/",
     "height": 424
    },
    "executionInfo": {
     "elapsed": 46,
     "status": "ok",
     "timestamp": 1651179040469,
     "user": {
      "displayName": "Matt Russo",
      "userId": "14188021989396943812"
     },
     "user_tz": -120
    },
    "id": "taken-taylor",
    "outputId": "e58c086f-8032-4484-c6fb-a66d348a53d5"
   },
   "outputs": [
    {
     "data": {
      "text/html": [
       "<div>\n",
       "<style scoped>\n",
       "    .dataframe tbody tr th:only-of-type {\n",
       "        vertical-align: middle;\n",
       "    }\n",
       "\n",
       "    .dataframe tbody tr th {\n",
       "        vertical-align: top;\n",
       "    }\n",
       "\n",
       "    .dataframe thead th {\n",
       "        text-align: right;\n",
       "    }\n",
       "</style>\n",
       "<table border=\"1\" class=\"dataframe\">\n",
       "  <thead>\n",
       "    <tr style=\"text-align: right;\">\n",
       "      <th></th>\n",
       "      <th>TV</th>\n",
       "      <th>radio</th>\n",
       "      <th>newspaper</th>\n",
       "      <th>sales</th>\n",
       "    </tr>\n",
       "  </thead>\n",
       "  <tbody>\n",
       "    <tr>\n",
       "      <th>0</th>\n",
       "      <td>230.1</td>\n",
       "      <td>37.8</td>\n",
       "      <td>69.2</td>\n",
       "      <td>22.1</td>\n",
       "    </tr>\n",
       "    <tr>\n",
       "      <th>1</th>\n",
       "      <td>44.5</td>\n",
       "      <td>39.3</td>\n",
       "      <td>45.1</td>\n",
       "      <td>10.4</td>\n",
       "    </tr>\n",
       "    <tr>\n",
       "      <th>2</th>\n",
       "      <td>17.2</td>\n",
       "      <td>45.9</td>\n",
       "      <td>69.3</td>\n",
       "      <td>9.3</td>\n",
       "    </tr>\n",
       "    <tr>\n",
       "      <th>3</th>\n",
       "      <td>151.5</td>\n",
       "      <td>41.3</td>\n",
       "      <td>58.5</td>\n",
       "      <td>18.5</td>\n",
       "    </tr>\n",
       "    <tr>\n",
       "      <th>4</th>\n",
       "      <td>180.8</td>\n",
       "      <td>10.8</td>\n",
       "      <td>58.4</td>\n",
       "      <td>12.9</td>\n",
       "    </tr>\n",
       "    <tr>\n",
       "      <th>...</th>\n",
       "      <td>...</td>\n",
       "      <td>...</td>\n",
       "      <td>...</td>\n",
       "      <td>...</td>\n",
       "    </tr>\n",
       "    <tr>\n",
       "      <th>195</th>\n",
       "      <td>38.2</td>\n",
       "      <td>3.7</td>\n",
       "      <td>13.8</td>\n",
       "      <td>7.6</td>\n",
       "    </tr>\n",
       "    <tr>\n",
       "      <th>196</th>\n",
       "      <td>94.2</td>\n",
       "      <td>4.9</td>\n",
       "      <td>8.1</td>\n",
       "      <td>9.7</td>\n",
       "    </tr>\n",
       "    <tr>\n",
       "      <th>197</th>\n",
       "      <td>177.0</td>\n",
       "      <td>9.3</td>\n",
       "      <td>6.4</td>\n",
       "      <td>12.8</td>\n",
       "    </tr>\n",
       "    <tr>\n",
       "      <th>198</th>\n",
       "      <td>283.6</td>\n",
       "      <td>42.0</td>\n",
       "      <td>66.2</td>\n",
       "      <td>25.5</td>\n",
       "    </tr>\n",
       "    <tr>\n",
       "      <th>199</th>\n",
       "      <td>232.1</td>\n",
       "      <td>8.6</td>\n",
       "      <td>8.7</td>\n",
       "      <td>13.4</td>\n",
       "    </tr>\n",
       "  </tbody>\n",
       "</table>\n",
       "<p>200 rows × 4 columns</p>\n",
       "</div>"
      ],
      "text/plain": [
       "        TV  radio  newspaper  sales\n",
       "0    230.1   37.8       69.2   22.1\n",
       "1     44.5   39.3       45.1   10.4\n",
       "2     17.2   45.9       69.3    9.3\n",
       "3    151.5   41.3       58.5   18.5\n",
       "4    180.8   10.8       58.4   12.9\n",
       "..     ...    ...        ...    ...\n",
       "195   38.2    3.7       13.8    7.6\n",
       "196   94.2    4.9        8.1    9.7\n",
       "197  177.0    9.3        6.4   12.8\n",
       "198  283.6   42.0       66.2   25.5\n",
       "199  232.1    8.6        8.7   13.4\n",
       "\n",
       "[200 rows x 4 columns]"
      ]
     },
     "execution_count": 10,
     "metadata": {},
     "output_type": "execute_result"
    }
   ],
   "source": [
    "df"
   ]
  },
  {
   "cell_type": "markdown",
   "id": "declared-leave",
   "metadata": {
    "id": "declared-leave"
   },
   "source": [
    "## Polynomial Converter"
   ]
  },
  {
   "cell_type": "code",
   "execution_count": 11,
   "id": "invalid-northern",
   "metadata": {
    "executionInfo": {
     "elapsed": 47,
     "status": "ok",
     "timestamp": 1651179040472,
     "user": {
      "displayName": "Matt Russo",
      "userId": "14188021989396943812"
     },
     "user_tz": -120
    },
    "id": "invalid-northern"
   },
   "outputs": [],
   "source": [
    "X = df.drop(\"sales\", axis =1)\n",
    "y = df.sales"
   ]
  },
  {
   "cell_type": "code",
   "execution_count": 12,
   "id": "continued-karma",
   "metadata": {
    "executionInfo": {
     "elapsed": 48,
     "status": "ok",
     "timestamp": 1651179040474,
     "user": {
      "displayName": "Matt Russo",
      "userId": "14188021989396943812"
     },
     "user_tz": -120
    },
    "id": "continued-karma"
   },
   "outputs": [],
   "source": [
    "polynomial_converter = PolynomialFeatures(degree =2, include_bias =False)"
   ]
  },
  {
   "cell_type": "code",
   "execution_count": 13,
   "id": "reasonable-german",
   "metadata": {
    "colab": {
     "base_uri": "https://localhost:8080/"
    },
    "executionInfo": {
     "elapsed": 49,
     "status": "ok",
     "timestamp": 1651179040476,
     "user": {
      "displayName": "Matt Russo",
      "userId": "14188021989396943812"
     },
     "user_tz": -120
    },
    "id": "reasonable-german",
    "outputId": "630d2fb0-d3c3-41fa-c4fe-6a6efb222b4a"
   },
   "outputs": [
    {
     "data": {
      "text/html": [
       "<style>#sk-container-id-2 {color: black;background-color: white;}#sk-container-id-2 pre{padding: 0;}#sk-container-id-2 div.sk-toggleable {background-color: white;}#sk-container-id-2 label.sk-toggleable__label {cursor: pointer;display: block;width: 100%;margin-bottom: 0;padding: 0.3em;box-sizing: border-box;text-align: center;}#sk-container-id-2 label.sk-toggleable__label-arrow:before {content: \"▸\";float: left;margin-right: 0.25em;color: #696969;}#sk-container-id-2 label.sk-toggleable__label-arrow:hover:before {color: black;}#sk-container-id-2 div.sk-estimator:hover label.sk-toggleable__label-arrow:before {color: black;}#sk-container-id-2 div.sk-toggleable__content {max-height: 0;max-width: 0;overflow: hidden;text-align: left;background-color: #f0f8ff;}#sk-container-id-2 div.sk-toggleable__content pre {margin: 0.2em;color: black;border-radius: 0.25em;background-color: #f0f8ff;}#sk-container-id-2 input.sk-toggleable__control:checked~div.sk-toggleable__content {max-height: 200px;max-width: 100%;overflow: auto;}#sk-container-id-2 input.sk-toggleable__control:checked~label.sk-toggleable__label-arrow:before {content: \"▾\";}#sk-container-id-2 div.sk-estimator input.sk-toggleable__control:checked~label.sk-toggleable__label {background-color: #d4ebff;}#sk-container-id-2 div.sk-label input.sk-toggleable__control:checked~label.sk-toggleable__label {background-color: #d4ebff;}#sk-container-id-2 input.sk-hidden--visually {border: 0;clip: rect(1px 1px 1px 1px);clip: rect(1px, 1px, 1px, 1px);height: 1px;margin: -1px;overflow: hidden;padding: 0;position: absolute;width: 1px;}#sk-container-id-2 div.sk-estimator {font-family: monospace;background-color: #f0f8ff;border: 1px dotted black;border-radius: 0.25em;box-sizing: border-box;margin-bottom: 0.5em;}#sk-container-id-2 div.sk-estimator:hover {background-color: #d4ebff;}#sk-container-id-2 div.sk-parallel-item::after {content: \"\";width: 100%;border-bottom: 1px solid gray;flex-grow: 1;}#sk-container-id-2 div.sk-label:hover label.sk-toggleable__label {background-color: #d4ebff;}#sk-container-id-2 div.sk-serial::before {content: \"\";position: absolute;border-left: 1px solid gray;box-sizing: border-box;top: 0;bottom: 0;left: 50%;z-index: 0;}#sk-container-id-2 div.sk-serial {display: flex;flex-direction: column;align-items: center;background-color: white;padding-right: 0.2em;padding-left: 0.2em;position: relative;}#sk-container-id-2 div.sk-item {position: relative;z-index: 1;}#sk-container-id-2 div.sk-parallel {display: flex;align-items: stretch;justify-content: center;background-color: white;position: relative;}#sk-container-id-2 div.sk-item::before, #sk-container-id-2 div.sk-parallel-item::before {content: \"\";position: absolute;border-left: 1px solid gray;box-sizing: border-box;top: 0;bottom: 0;left: 50%;z-index: -1;}#sk-container-id-2 div.sk-parallel-item {display: flex;flex-direction: column;z-index: 1;position: relative;background-color: white;}#sk-container-id-2 div.sk-parallel-item:first-child::after {align-self: flex-end;width: 50%;}#sk-container-id-2 div.sk-parallel-item:last-child::after {align-self: flex-start;width: 50%;}#sk-container-id-2 div.sk-parallel-item:only-child::after {width: 0;}#sk-container-id-2 div.sk-dashed-wrapped {border: 1px dashed gray;margin: 0 0.4em 0.5em 0.4em;box-sizing: border-box;padding-bottom: 0.4em;background-color: white;}#sk-container-id-2 div.sk-label label {font-family: monospace;font-weight: bold;display: inline-block;line-height: 1.2em;}#sk-container-id-2 div.sk-label-container {text-align: center;}#sk-container-id-2 div.sk-container {/* jupyter's `normalize.less` sets `[hidden] { display: none; }` but bootstrap.min.css set `[hidden] { display: none !important; }` so we also need the `!important` here to be able to override the default hidden behavior on the sphinx rendered scikit-learn.org. See: https://github.com/scikit-learn/scikit-learn/issues/21755 */display: inline-block !important;position: relative;}#sk-container-id-2 div.sk-text-repr-fallback {display: none;}</style><div id=\"sk-container-id-2\" class=\"sk-top-container\"><div class=\"sk-text-repr-fallback\"><pre>PolynomialFeatures(include_bias=False)</pre><b>In a Jupyter environment, please rerun this cell to show the HTML representation or trust the notebook. <br />On GitHub, the HTML representation is unable to render, please try loading this page with nbviewer.org.</b></div><div class=\"sk-container\" hidden><div class=\"sk-item\"><div class=\"sk-estimator sk-toggleable\"><input class=\"sk-toggleable__control sk-hidden--visually\" id=\"sk-estimator-id-2\" type=\"checkbox\" checked><label for=\"sk-estimator-id-2\" class=\"sk-toggleable__label sk-toggleable__label-arrow\">PolynomialFeatures</label><div class=\"sk-toggleable__content\"><pre>PolynomialFeatures(include_bias=False)</pre></div></div></div></div></div>"
      ],
      "text/plain": [
       "PolynomialFeatures(include_bias=False)"
      ]
     },
     "execution_count": 13,
     "metadata": {},
     "output_type": "execute_result"
    }
   ],
   "source": [
    "polynomial_converter.fit(X)"
   ]
  },
  {
   "cell_type": "code",
   "execution_count": 14,
   "id": "pointed-violin",
   "metadata": {
    "executionInfo": {
     "elapsed": 48,
     "status": "ok",
     "timestamp": 1651179040477,
     "user": {
      "displayName": "Matt Russo",
      "userId": "14188021989396943812"
     },
     "user_tz": -120
    },
    "id": "pointed-violin"
   },
   "outputs": [],
   "source": [
    "poly_features = polynomial_converter.transform(X)"
   ]
  },
  {
   "cell_type": "code",
   "execution_count": 15,
   "id": "operational-stevens",
   "metadata": {
    "colab": {
     "base_uri": "https://localhost:8080/"
    },
    "executionInfo": {
     "elapsed": 48,
     "status": "ok",
     "timestamp": 1651179040478,
     "user": {
      "displayName": "Matt Russo",
      "userId": "14188021989396943812"
     },
     "user_tz": -120
    },
    "id": "operational-stevens",
    "outputId": "77f6c8e8-c8be-4d72-ec84-627dac45c257"
   },
   "outputs": [
    {
     "data": {
      "text/plain": [
       "array([[ 230.1 ,   37.8 ,   69.2 , ..., 1428.84, 2615.76, 4788.64],\n",
       "       [  44.5 ,   39.3 ,   45.1 , ..., 1544.49, 1772.43, 2034.01],\n",
       "       [  17.2 ,   45.9 ,   69.3 , ..., 2106.81, 3180.87, 4802.49],\n",
       "       ...,\n",
       "       [ 177.  ,    9.3 ,    6.4 , ...,   86.49,   59.52,   40.96],\n",
       "       [ 283.6 ,   42.  ,   66.2 , ..., 1764.  , 2780.4 , 4382.44],\n",
       "       [ 232.1 ,    8.6 ,    8.7 , ...,   73.96,   74.82,   75.69]])"
      ]
     },
     "execution_count": 15,
     "metadata": {},
     "output_type": "execute_result"
    }
   ],
   "source": [
    "poly_features"
   ]
  },
  {
   "cell_type": "code",
   "execution_count": 16,
   "id": "numerical-conclusion",
   "metadata": {
    "colab": {
     "base_uri": "https://localhost:8080/"
    },
    "executionInfo": {
     "elapsed": 48,
     "status": "ok",
     "timestamp": 1651179040479,
     "user": {
      "displayName": "Matt Russo",
      "userId": "14188021989396943812"
     },
     "user_tz": -120
    },
    "id": "numerical-conclusion",
    "outputId": "ea7c7071-25cc-4202-bd65-f63fc2ce96b0"
   },
   "outputs": [
    {
     "data": {
      "text/plain": [
       "(200, 9)"
      ]
     },
     "execution_count": 16,
     "metadata": {},
     "output_type": "execute_result"
    }
   ],
   "source": [
    "poly_features.shape"
   ]
  },
  {
   "cell_type": "code",
   "execution_count": 17,
   "id": "moderate-works",
   "metadata": {
    "colab": {
     "base_uri": "https://localhost:8080/",
     "height": 206
    },
    "executionInfo": {
     "elapsed": 47,
     "status": "ok",
     "timestamp": 1651179040480,
     "user": {
      "displayName": "Matt Russo",
      "userId": "14188021989396943812"
     },
     "user_tz": -120
    },
    "id": "moderate-works",
    "outputId": "8accdba4-79d7-47c6-ab00-dced5fd823f8"
   },
   "outputs": [
    {
     "data": {
      "text/html": [
       "<div>\n",
       "<style scoped>\n",
       "    .dataframe tbody tr th:only-of-type {\n",
       "        vertical-align: middle;\n",
       "    }\n",
       "\n",
       "    .dataframe tbody tr th {\n",
       "        vertical-align: top;\n",
       "    }\n",
       "\n",
       "    .dataframe thead th {\n",
       "        text-align: right;\n",
       "    }\n",
       "</style>\n",
       "<table border=\"1\" class=\"dataframe\">\n",
       "  <thead>\n",
       "    <tr style=\"text-align: right;\">\n",
       "      <th></th>\n",
       "      <th>TV</th>\n",
       "      <th>radio</th>\n",
       "      <th>newspaper</th>\n",
       "      <th>TV^2</th>\n",
       "      <th>TV&amp;Radio</th>\n",
       "      <th>TV&amp;Newspaper</th>\n",
       "      <th>Radio^2</th>\n",
       "      <th>Radio&amp;newspaper</th>\n",
       "      <th>Newspaper^2</th>\n",
       "    </tr>\n",
       "  </thead>\n",
       "  <tbody>\n",
       "    <tr>\n",
       "      <th>0</th>\n",
       "      <td>230.1</td>\n",
       "      <td>37.8</td>\n",
       "      <td>69.2</td>\n",
       "      <td>52946.01</td>\n",
       "      <td>8697.78</td>\n",
       "      <td>15922.92</td>\n",
       "      <td>1428.84</td>\n",
       "      <td>2615.76</td>\n",
       "      <td>4788.64</td>\n",
       "    </tr>\n",
       "    <tr>\n",
       "      <th>1</th>\n",
       "      <td>44.5</td>\n",
       "      <td>39.3</td>\n",
       "      <td>45.1</td>\n",
       "      <td>1980.25</td>\n",
       "      <td>1748.85</td>\n",
       "      <td>2006.95</td>\n",
       "      <td>1544.49</td>\n",
       "      <td>1772.43</td>\n",
       "      <td>2034.01</td>\n",
       "    </tr>\n",
       "    <tr>\n",
       "      <th>2</th>\n",
       "      <td>17.2</td>\n",
       "      <td>45.9</td>\n",
       "      <td>69.3</td>\n",
       "      <td>295.84</td>\n",
       "      <td>789.48</td>\n",
       "      <td>1191.96</td>\n",
       "      <td>2106.81</td>\n",
       "      <td>3180.87</td>\n",
       "      <td>4802.49</td>\n",
       "    </tr>\n",
       "    <tr>\n",
       "      <th>3</th>\n",
       "      <td>151.5</td>\n",
       "      <td>41.3</td>\n",
       "      <td>58.5</td>\n",
       "      <td>22952.25</td>\n",
       "      <td>6256.95</td>\n",
       "      <td>8862.75</td>\n",
       "      <td>1705.69</td>\n",
       "      <td>2416.05</td>\n",
       "      <td>3422.25</td>\n",
       "    </tr>\n",
       "    <tr>\n",
       "      <th>4</th>\n",
       "      <td>180.8</td>\n",
       "      <td>10.8</td>\n",
       "      <td>58.4</td>\n",
       "      <td>32688.64</td>\n",
       "      <td>1952.64</td>\n",
       "      <td>10558.72</td>\n",
       "      <td>116.64</td>\n",
       "      <td>630.72</td>\n",
       "      <td>3410.56</td>\n",
       "    </tr>\n",
       "  </tbody>\n",
       "</table>\n",
       "</div>"
      ],
      "text/plain": [
       "      TV  radio  newspaper      TV^2  TV&Radio  TV&Newspaper  Radio^2  \\\n",
       "0  230.1   37.8       69.2  52946.01   8697.78      15922.92  1428.84   \n",
       "1   44.5   39.3       45.1   1980.25   1748.85       2006.95  1544.49   \n",
       "2   17.2   45.9       69.3    295.84    789.48       1191.96  2106.81   \n",
       "3  151.5   41.3       58.5  22952.25   6256.95       8862.75  1705.69   \n",
       "4  180.8   10.8       58.4  32688.64   1952.64      10558.72   116.64   \n",
       "\n",
       "   Radio&newspaper  Newspaper^2  \n",
       "0          2615.76      4788.64  \n",
       "1          1772.43      2034.01  \n",
       "2          3180.87      4802.49  \n",
       "3          2416.05      3422.25  \n",
       "4           630.72      3410.56  "
      ]
     },
     "execution_count": 17,
     "metadata": {},
     "output_type": "execute_result"
    }
   ],
   "source": [
    "pd.DataFrame(poly_features, columns = [\"TV\", \"radio\", \"newspaper\", \"TV^2\", \"TV&Radio\", \\\n",
    "                                   \"TV&Newspaper\", \"Radio^2\", \"Radio&newspaper\", \"Newspaper^2\"]).head()"
   ]
  },
  {
   "cell_type": "code",
   "execution_count": 18,
   "id": "radio-panic",
   "metadata": {
    "colab": {
     "base_uri": "https://localhost:8080/"
    },
    "executionInfo": {
     "elapsed": 48,
     "status": "ok",
     "timestamp": 1651179040483,
     "user": {
      "displayName": "Matt Russo",
      "userId": "14188021989396943812"
     },
     "user_tz": -120
    },
    "id": "radio-panic",
    "outputId": "eea8f21b-c435-4fd5-c5ae-acdc8ae354c4"
   },
   "outputs": [
    {
     "data": {
      "text/plain": [
       "(200, 3)"
      ]
     },
     "execution_count": 18,
     "metadata": {},
     "output_type": "execute_result"
    }
   ],
   "source": [
    "X.shape"
   ]
  },
  {
   "cell_type": "markdown",
   "id": "unique-hours",
   "metadata": {
    "id": "unique-hours"
   },
   "source": [
    "## Train | Test Split"
   ]
  },
  {
   "cell_type": "code",
   "execution_count": 19,
   "id": "planned-uniform",
   "metadata": {
    "executionInfo": {
     "elapsed": 383,
     "status": "ok",
     "timestamp": 1651179040822,
     "user": {
      "displayName": "Matt Russo",
      "userId": "14188021989396943812"
     },
     "user_tz": -120
    },
    "id": "planned-uniform"
   },
   "outputs": [],
   "source": [
    "from sklearn.model_selection import train_test_split"
   ]
  },
  {
   "cell_type": "code",
   "execution_count": 20,
   "id": "enormous-cemetery",
   "metadata": {
    "executionInfo": {
     "elapsed": 45,
     "status": "ok",
     "timestamp": 1651179040823,
     "user": {
      "displayName": "Matt Russo",
      "userId": "14188021989396943812"
     },
     "user_tz": -120
    },
    "id": "enormous-cemetery"
   },
   "outputs": [],
   "source": [
    "X_train, X_test, y_train, y_test = train_test_split(poly_features, y, test_size = 0.3, random_state = 101)"
   ]
  },
  {
   "cell_type": "markdown",
   "id": "proud-district",
   "metadata": {
    "id": "proud-district"
   },
   "source": [
    "## Model for fitting"
   ]
  },
  {
   "cell_type": "code",
   "execution_count": 21,
   "id": "indie-nightlife",
   "metadata": {
    "executionInfo": {
     "elapsed": 382,
     "status": "ok",
     "timestamp": 1651179041162,
     "user": {
      "displayName": "Matt Russo",
      "userId": "14188021989396943812"
     },
     "user_tz": -120
    },
    "id": "indie-nightlife"
   },
   "outputs": [],
   "source": [
    "from sklearn.linear_model import LinearRegression"
   ]
  },
  {
   "cell_type": "code",
   "execution_count": 22,
   "id": "exclusive-semester",
   "metadata": {
    "executionInfo": {
     "elapsed": 15,
     "status": "ok",
     "timestamp": 1651179041165,
     "user": {
      "displayName": "Matt Russo",
      "userId": "14188021989396943812"
     },
     "user_tz": -120
    },
    "id": "exclusive-semester"
   },
   "outputs": [],
   "source": [
    "model_poly = LinearRegression()"
   ]
  },
  {
   "cell_type": "code",
   "execution_count": 23,
   "id": "critical-comparison",
   "metadata": {
    "colab": {
     "base_uri": "https://localhost:8080/"
    },
    "executionInfo": {
     "elapsed": 18,
     "status": "ok",
     "timestamp": 1651179041168,
     "user": {
      "displayName": "Matt Russo",
      "userId": "14188021989396943812"
     },
     "user_tz": -120
    },
    "id": "critical-comparison",
    "outputId": "bc2aae23-4fbf-42ca-eeb2-38a1f6ba7d68"
   },
   "outputs": [
    {
     "data": {
      "text/html": [
       "<style>#sk-container-id-3 {color: black;background-color: white;}#sk-container-id-3 pre{padding: 0;}#sk-container-id-3 div.sk-toggleable {background-color: white;}#sk-container-id-3 label.sk-toggleable__label {cursor: pointer;display: block;width: 100%;margin-bottom: 0;padding: 0.3em;box-sizing: border-box;text-align: center;}#sk-container-id-3 label.sk-toggleable__label-arrow:before {content: \"▸\";float: left;margin-right: 0.25em;color: #696969;}#sk-container-id-3 label.sk-toggleable__label-arrow:hover:before {color: black;}#sk-container-id-3 div.sk-estimator:hover label.sk-toggleable__label-arrow:before {color: black;}#sk-container-id-3 div.sk-toggleable__content {max-height: 0;max-width: 0;overflow: hidden;text-align: left;background-color: #f0f8ff;}#sk-container-id-3 div.sk-toggleable__content pre {margin: 0.2em;color: black;border-radius: 0.25em;background-color: #f0f8ff;}#sk-container-id-3 input.sk-toggleable__control:checked~div.sk-toggleable__content {max-height: 200px;max-width: 100%;overflow: auto;}#sk-container-id-3 input.sk-toggleable__control:checked~label.sk-toggleable__label-arrow:before {content: \"▾\";}#sk-container-id-3 div.sk-estimator input.sk-toggleable__control:checked~label.sk-toggleable__label {background-color: #d4ebff;}#sk-container-id-3 div.sk-label input.sk-toggleable__control:checked~label.sk-toggleable__label {background-color: #d4ebff;}#sk-container-id-3 input.sk-hidden--visually {border: 0;clip: rect(1px 1px 1px 1px);clip: rect(1px, 1px, 1px, 1px);height: 1px;margin: -1px;overflow: hidden;padding: 0;position: absolute;width: 1px;}#sk-container-id-3 div.sk-estimator {font-family: monospace;background-color: #f0f8ff;border: 1px dotted black;border-radius: 0.25em;box-sizing: border-box;margin-bottom: 0.5em;}#sk-container-id-3 div.sk-estimator:hover {background-color: #d4ebff;}#sk-container-id-3 div.sk-parallel-item::after {content: \"\";width: 100%;border-bottom: 1px solid gray;flex-grow: 1;}#sk-container-id-3 div.sk-label:hover label.sk-toggleable__label {background-color: #d4ebff;}#sk-container-id-3 div.sk-serial::before {content: \"\";position: absolute;border-left: 1px solid gray;box-sizing: border-box;top: 0;bottom: 0;left: 50%;z-index: 0;}#sk-container-id-3 div.sk-serial {display: flex;flex-direction: column;align-items: center;background-color: white;padding-right: 0.2em;padding-left: 0.2em;position: relative;}#sk-container-id-3 div.sk-item {position: relative;z-index: 1;}#sk-container-id-3 div.sk-parallel {display: flex;align-items: stretch;justify-content: center;background-color: white;position: relative;}#sk-container-id-3 div.sk-item::before, #sk-container-id-3 div.sk-parallel-item::before {content: \"\";position: absolute;border-left: 1px solid gray;box-sizing: border-box;top: 0;bottom: 0;left: 50%;z-index: -1;}#sk-container-id-3 div.sk-parallel-item {display: flex;flex-direction: column;z-index: 1;position: relative;background-color: white;}#sk-container-id-3 div.sk-parallel-item:first-child::after {align-self: flex-end;width: 50%;}#sk-container-id-3 div.sk-parallel-item:last-child::after {align-self: flex-start;width: 50%;}#sk-container-id-3 div.sk-parallel-item:only-child::after {width: 0;}#sk-container-id-3 div.sk-dashed-wrapped {border: 1px dashed gray;margin: 0 0.4em 0.5em 0.4em;box-sizing: border-box;padding-bottom: 0.4em;background-color: white;}#sk-container-id-3 div.sk-label label {font-family: monospace;font-weight: bold;display: inline-block;line-height: 1.2em;}#sk-container-id-3 div.sk-label-container {text-align: center;}#sk-container-id-3 div.sk-container {/* jupyter's `normalize.less` sets `[hidden] { display: none; }` but bootstrap.min.css set `[hidden] { display: none !important; }` so we also need the `!important` here to be able to override the default hidden behavior on the sphinx rendered scikit-learn.org. See: https://github.com/scikit-learn/scikit-learn/issues/21755 */display: inline-block !important;position: relative;}#sk-container-id-3 div.sk-text-repr-fallback {display: none;}</style><div id=\"sk-container-id-3\" class=\"sk-top-container\"><div class=\"sk-text-repr-fallback\"><pre>LinearRegression()</pre><b>In a Jupyter environment, please rerun this cell to show the HTML representation or trust the notebook. <br />On GitHub, the HTML representation is unable to render, please try loading this page with nbviewer.org.</b></div><div class=\"sk-container\" hidden><div class=\"sk-item\"><div class=\"sk-estimator sk-toggleable\"><input class=\"sk-toggleable__control sk-hidden--visually\" id=\"sk-estimator-id-3\" type=\"checkbox\" checked><label for=\"sk-estimator-id-3\" class=\"sk-toggleable__label sk-toggleable__label-arrow\">LinearRegression</label><div class=\"sk-toggleable__content\"><pre>LinearRegression()</pre></div></div></div></div></div>"
      ],
      "text/plain": [
       "LinearRegression()"
      ]
     },
     "execution_count": 23,
     "metadata": {},
     "output_type": "execute_result"
    }
   ],
   "source": [
    "model_poly.fit(X_train, y_train)"
   ]
  },
  {
   "cell_type": "code",
   "execution_count": 24,
   "id": "charitable-savings",
   "metadata": {
    "executionInfo": {
     "elapsed": 28,
     "status": "ok",
     "timestamp": 1651179041179,
     "user": {
      "displayName": "Matt Russo",
      "userId": "14188021989396943812"
     },
     "user_tz": -120
    },
    "id": "charitable-savings"
   },
   "outputs": [],
   "source": [
    "y_pred = model_poly.predict(X_test)"
   ]
  },
  {
   "cell_type": "code",
   "execution_count": 25,
   "id": "tough-edinburgh",
   "metadata": {
    "colab": {
     "base_uri": "https://localhost:8080/",
     "height": 677
    },
    "executionInfo": {
     "elapsed": 28,
     "status": "ok",
     "timestamp": 1651179041180,
     "user": {
      "displayName": "Matt Russo",
      "userId": "14188021989396943812"
     },
     "user_tz": -120
    },
    "id": "tough-edinburgh",
    "outputId": "eeeafefb-d671-4107-8cd9-f6cfb80c3780"
   },
   "outputs": [
    {
     "data": {
      "text/html": [
       "<div>\n",
       "<style scoped>\n",
       "    .dataframe tbody tr th:only-of-type {\n",
       "        vertical-align: middle;\n",
       "    }\n",
       "\n",
       "    .dataframe tbody tr th {\n",
       "        vertical-align: top;\n",
       "    }\n",
       "\n",
       "    .dataframe thead th {\n",
       "        text-align: right;\n",
       "    }\n",
       "</style>\n",
       "<table border=\"1\" class=\"dataframe\">\n",
       "  <thead>\n",
       "    <tr style=\"text-align: right;\">\n",
       "      <th></th>\n",
       "      <th>Actual</th>\n",
       "      <th>pred</th>\n",
       "      <th>residual</th>\n",
       "    </tr>\n",
       "  </thead>\n",
       "  <tbody>\n",
       "    <tr>\n",
       "      <th>37</th>\n",
       "      <td>14.7</td>\n",
       "      <td>13.948562</td>\n",
       "      <td>0.751438</td>\n",
       "    </tr>\n",
       "    <tr>\n",
       "      <th>109</th>\n",
       "      <td>19.8</td>\n",
       "      <td>19.334803</td>\n",
       "      <td>0.465197</td>\n",
       "    </tr>\n",
       "    <tr>\n",
       "      <th>31</th>\n",
       "      <td>11.9</td>\n",
       "      <td>12.319282</td>\n",
       "      <td>-0.419282</td>\n",
       "    </tr>\n",
       "    <tr>\n",
       "      <th>89</th>\n",
       "      <td>16.7</td>\n",
       "      <td>16.762863</td>\n",
       "      <td>-0.062863</td>\n",
       "    </tr>\n",
       "    <tr>\n",
       "      <th>66</th>\n",
       "      <td>9.5</td>\n",
       "      <td>7.902109</td>\n",
       "      <td>1.597891</td>\n",
       "    </tr>\n",
       "    <tr>\n",
       "      <th>119</th>\n",
       "      <td>6.6</td>\n",
       "      <td>6.941438</td>\n",
       "      <td>-0.341438</td>\n",
       "    </tr>\n",
       "    <tr>\n",
       "      <th>54</th>\n",
       "      <td>20.2</td>\n",
       "      <td>20.133727</td>\n",
       "      <td>0.066273</td>\n",
       "    </tr>\n",
       "    <tr>\n",
       "      <th>74</th>\n",
       "      <td>17.0</td>\n",
       "      <td>17.500927</td>\n",
       "      <td>-0.500927</td>\n",
       "    </tr>\n",
       "    <tr>\n",
       "      <th>145</th>\n",
       "      <td>10.3</td>\n",
       "      <td>10.568890</td>\n",
       "      <td>-0.268890</td>\n",
       "    </tr>\n",
       "    <tr>\n",
       "      <th>142</th>\n",
       "      <td>20.1</td>\n",
       "      <td>20.125518</td>\n",
       "      <td>-0.025518</td>\n",
       "    </tr>\n",
       "    <tr>\n",
       "      <th>148</th>\n",
       "      <td>10.9</td>\n",
       "      <td>9.446145</td>\n",
       "      <td>1.453855</td>\n",
       "    </tr>\n",
       "    <tr>\n",
       "      <th>112</th>\n",
       "      <td>14.1</td>\n",
       "      <td>14.099354</td>\n",
       "      <td>0.000646</td>\n",
       "    </tr>\n",
       "    <tr>\n",
       "      <th>174</th>\n",
       "      <td>11.5</td>\n",
       "      <td>12.055135</td>\n",
       "      <td>-0.555135</td>\n",
       "    </tr>\n",
       "    <tr>\n",
       "      <th>55</th>\n",
       "      <td>23.7</td>\n",
       "      <td>23.392540</td>\n",
       "      <td>0.307460</td>\n",
       "    </tr>\n",
       "    <tr>\n",
       "      <th>141</th>\n",
       "      <td>19.2</td>\n",
       "      <td>19.675084</td>\n",
       "      <td>-0.475084</td>\n",
       "    </tr>\n",
       "    <tr>\n",
       "      <th>149</th>\n",
       "      <td>10.1</td>\n",
       "      <td>9.156263</td>\n",
       "      <td>0.943737</td>\n",
       "    </tr>\n",
       "    <tr>\n",
       "      <th>25</th>\n",
       "      <td>12.0</td>\n",
       "      <td>12.116373</td>\n",
       "      <td>-0.116373</td>\n",
       "    </tr>\n",
       "    <tr>\n",
       "      <th>34</th>\n",
       "      <td>9.5</td>\n",
       "      <td>9.281496</td>\n",
       "      <td>0.218504</td>\n",
       "    </tr>\n",
       "    <tr>\n",
       "      <th>170</th>\n",
       "      <td>8.4</td>\n",
       "      <td>8.446040</td>\n",
       "      <td>-0.046040</td>\n",
       "    </tr>\n",
       "    <tr>\n",
       "      <th>39</th>\n",
       "      <td>21.5</td>\n",
       "      <td>21.655881</td>\n",
       "      <td>-0.155881</td>\n",
       "    </tr>\n",
       "  </tbody>\n",
       "</table>\n",
       "</div>"
      ],
      "text/plain": [
       "     Actual       pred  residual\n",
       "37     14.7  13.948562  0.751438\n",
       "109    19.8  19.334803  0.465197\n",
       "31     11.9  12.319282 -0.419282\n",
       "89     16.7  16.762863 -0.062863\n",
       "66      9.5   7.902109  1.597891\n",
       "119     6.6   6.941438 -0.341438\n",
       "54     20.2  20.133727  0.066273\n",
       "74     17.0  17.500927 -0.500927\n",
       "145    10.3  10.568890 -0.268890\n",
       "142    20.1  20.125518 -0.025518\n",
       "148    10.9   9.446145  1.453855\n",
       "112    14.1  14.099354  0.000646\n",
       "174    11.5  12.055135 -0.555135\n",
       "55     23.7  23.392540  0.307460\n",
       "141    19.2  19.675084 -0.475084\n",
       "149    10.1   9.156263  0.943737\n",
       "25     12.0  12.116373 -0.116373\n",
       "34      9.5   9.281496  0.218504\n",
       "170     8.4   8.446040 -0.046040\n",
       "39     21.5  21.655881 -0.155881"
      ]
     },
     "execution_count": 25,
     "metadata": {},
     "output_type": "execute_result"
    }
   ],
   "source": [
    "my_dict = {\"Actual\": y_test, \"pred\": y_pred, \"residual\": y_test-y_pred}\n",
    "compare = pd.DataFrame(my_dict)\n",
    "compare.head(20)"
   ]
  },
  {
   "cell_type": "code",
   "execution_count": 26,
   "id": "eleven-nursing",
   "metadata": {
    "colab": {
     "base_uri": "https://localhost:8080/",
     "height": 546
    },
    "executionInfo": {
     "elapsed": 828,
     "status": "ok",
     "timestamp": 1651179041983,
     "user": {
      "displayName": "Matt Russo",
      "userId": "14188021989396943812"
     },
     "user_tz": -120
    },
    "id": "eleven-nursing",
    "outputId": "223082c5-8150-4c3c-8239-0dd65ecbefd5"
   },
   "outputs": [
    {
     "data": {
      "image/png": "[encoded data removed]",
      "text/plain": [
       "<Figure size 1080x648 with 1 Axes>"
      ]
     },
     "metadata": {
      "needs_background": "light"
     },
     "output_type": "display_data"
    }
   ],
   "source": [
    "compare.head(20).plot(kind='bar',figsize=(15,9))\n",
    "plt.show();"
   ]
  },
  {
   "cell_type": "markdown",
   "id": "smart-program",
   "metadata": {
    "id": "smart-program"
   },
   "source": [
    "## Poly Coefficients"
   ]
  },
  {
   "cell_type": "code",
   "execution_count": 27,
   "id": "cathedral-february",
   "metadata": {
    "colab": {
     "base_uri": "https://localhost:8080/"
    },
    "executionInfo": {
     "elapsed": 23,
     "status": "ok",
     "timestamp": 1651179041985,
     "user": {
      "displayName": "Matt Russo",
      "userId": "14188021989396943812"
     },
     "user_tz": -120
    },
    "id": "cathedral-february",
    "outputId": "e9791ab1-273a-485b-c45d-df2263469c4c"
   },
   "outputs": [
    {
     "data": {
      "text/plain": [
       "array([ 5.17095811e-02,  1.30848864e-02,  1.20000085e-02, -1.10892474e-04,\n",
       "        1.14212673e-03, -5.24100082e-05,  3.34919737e-05,  1.46380310e-04,\n",
       "       -3.04715806e-05])"
      ]
     },
     "execution_count": 27,
     "metadata": {},
     "output_type": "execute_result"
    }
   ],
   "source": [
    "model_poly.coef_"
   ]
  },
  {
   "cell_type": "code",
   "execution_count": 28,
   "id": "configured-chemistry",
   "metadata": {
    "executionInfo": {
     "elapsed": 26,
     "status": "ok",
     "timestamp": 1651179041991,
     "user": {
      "displayName": "Matt Russo",
      "userId": "14188021989396943812"
     },
     "user_tz": -120
    },
    "id": "configured-chemistry"
   },
   "outputs": [],
   "source": [
    "df_coef = pd.DataFrame(model_poly.coef_, index = [\"TV\", \"radio\", \"newspaper\", \"TV^2\", \"TV&Radio\", \\\n",
    "                                   \"TV&Newspaper\", \"Radio^2\", \"Radio&newspaper\", \"Newspaper^2\"], columns = [\"coef\"])"
   ]
  },
  {
   "cell_type": "code",
   "execution_count": 29,
   "id": "packed-parameter",
   "metadata": {
    "colab": {
     "base_uri": "https://localhost:8080/",
     "height": 332
    },
    "executionInfo": {
     "elapsed": 28,
     "status": "ok",
     "timestamp": 1651179041994,
     "user": {
      "displayName": "Matt Russo",
      "userId": "14188021989396943812"
     },
     "user_tz": -120
    },
    "id": "packed-parameter",
    "outputId": "85952f50-30f2-46bc-b117-036b179b1d08"
   },
   "outputs": [
    {
     "data": {
      "text/html": [
       "<div>\n",
       "<style scoped>\n",
       "    .dataframe tbody tr th:only-of-type {\n",
       "        vertical-align: middle;\n",
       "    }\n",
       "\n",
       "    .dataframe tbody tr th {\n",
       "        vertical-align: top;\n",
       "    }\n",
       "\n",
       "    .dataframe thead th {\n",
       "        text-align: right;\n",
       "    }\n",
       "</style>\n",
       "<table border=\"1\" class=\"dataframe\">\n",
       "  <thead>\n",
       "    <tr style=\"text-align: right;\">\n",
       "      <th></th>\n",
       "      <th>coef</th>\n",
       "    </tr>\n",
       "  </thead>\n",
       "  <tbody>\n",
       "    <tr>\n",
       "      <th>TV</th>\n",
       "      <td>0.051710</td>\n",
       "    </tr>\n",
       "    <tr>\n",
       "      <th>radio</th>\n",
       "      <td>0.013085</td>\n",
       "    </tr>\n",
       "    <tr>\n",
       "      <th>newspaper</th>\n",
       "      <td>0.012000</td>\n",
       "    </tr>\n",
       "    <tr>\n",
       "      <th>TV^2</th>\n",
       "      <td>-0.000111</td>\n",
       "    </tr>\n",
       "    <tr>\n",
       "      <th>TV&amp;Radio</th>\n",
       "      <td>0.001142</td>\n",
       "    </tr>\n",
       "    <tr>\n",
       "      <th>TV&amp;Newspaper</th>\n",
       "      <td>-0.000052</td>\n",
       "    </tr>\n",
       "    <tr>\n",
       "      <th>Radio^2</th>\n",
       "      <td>0.000033</td>\n",
       "    </tr>\n",
       "    <tr>\n",
       "      <th>Radio&amp;newspaper</th>\n",
       "      <td>0.000146</td>\n",
       "    </tr>\n",
       "    <tr>\n",
       "      <th>Newspaper^2</th>\n",
       "      <td>-0.000030</td>\n",
       "    </tr>\n",
       "  </tbody>\n",
       "</table>\n",
       "</div>"
      ],
      "text/plain": [
       "                     coef\n",
       "TV               0.051710\n",
       "radio            0.013085\n",
       "newspaper        0.012000\n",
       "TV^2            -0.000111\n",
       "TV&Radio         0.001142\n",
       "TV&Newspaper    -0.000052\n",
       "Radio^2          0.000033\n",
       "Radio&newspaper  0.000146\n",
       "Newspaper^2     -0.000030"
      ]
     },
     "execution_count": 29,
     "metadata": {},
     "output_type": "execute_result"
    }
   ],
   "source": [
    "df_coef"
   ]
  },
  {
   "cell_type": "code",
   "execution_count": 30,
   "id": "banned-transsexual",
   "metadata": {
    "colab": {
     "base_uri": "https://localhost:8080/"
    },
    "executionInfo": {
     "elapsed": 29,
     "status": "ok",
     "timestamp": 1651179041996,
     "user": {
      "displayName": "Matt Russo",
      "userId": "14188021989396943812"
     },
     "user_tz": -120
    },
    "id": "banned-transsexual",
    "outputId": "044ceff1-665b-4177-8a66-19abbe3eabe7"
   },
   "outputs": [
    {
     "data": {
      "text/plain": [
       "array([21.86190699])"
      ]
     },
     "execution_count": 30,
     "metadata": {},
     "output_type": "execute_result"
    }
   ],
   "source": [
    "model_poly.predict([[2.301000e+02, 3.780000e+01, 6.920000e+01, 5.294601e+04,\n",
    "       8.697780e+03, 1.592292e+04, 1.428840e+03, 2.615760e+03,\n",
    "       4.788640e+03]])"
   ]
  },
  {
   "cell_type": "markdown",
   "id": "intense-alberta",
   "metadata": {
    "id": "intense-alberta"
   },
   "source": [
    "## Evaluation on the Test Set"
   ]
  },
  {
   "cell_type": "code",
   "execution_count": 31,
   "id": "sensitive-emphasis",
   "metadata": {
    "executionInfo": {
     "elapsed": 29,
     "status": "ok",
     "timestamp": 1651179041997,
     "user": {
      "displayName": "Matt Russo",
      "userId": "14188021989396943812"
     },
     "user_tz": -120
    },
    "id": "sensitive-emphasis"
   },
   "outputs": [],
   "source": [
    "from sklearn.metrics import mean_absolute_error,mean_squared_error,r2_score"
   ]
  },
  {
   "cell_type": "code",
   "execution_count": 32,
   "id": "brilliant-producer",
   "metadata": {
    "executionInfo": {
     "elapsed": 363,
     "status": "ok",
     "timestamp": 1651179042332,
     "user": {
      "displayName": "Matt Russo",
      "userId": "14188021989396943812"
     },
     "user_tz": -120
    },
    "id": "brilliant-producer"
   },
   "outputs": [],
   "source": [
    "y_pred = model_poly.predict(X_test)"
   ]
  },
  {
   "cell_type": "code",
   "execution_count": 33,
   "id": "sustainable-asian",
   "metadata": {
    "executionInfo": {
     "elapsed": 23,
     "status": "ok",
     "timestamp": 1651179042339,
     "user": {
      "displayName": "Matt Russo",
      "userId": "14188021989396943812"
     },
     "user_tz": -120
    },
    "id": "sustainable-asian"
   },
   "outputs": [],
   "source": [
    "def eval_metric(actual, pred):\n",
    "    mae = mean_absolute_error(actual, pred)\n",
    "    mse = mean_squared_error(actual, pred)\n",
    "    rmse = np.sqrt(mean_squared_error(actual, pred))\n",
    "    R2_score = r2_score(actual, pred)\n",
    "    print(\"Model testing performance:\")\n",
    "    print(\"--------------------------\")\n",
    "    print(f\"R2_score \\t: {R2_score}\")\n",
    "    print(f\"MAE \\t\\t: {mae}\")\n",
    "    print(f\"MSE \\t\\t: {mse}\")\n",
    "    print(f\"RMSE \\t\\t: {rmse}\")"
   ]
  },
  {
   "cell_type": "code",
   "execution_count": 34,
   "id": "gross-mixer",
   "metadata": {
    "colab": {
     "base_uri": "https://localhost:8080/"
    },
    "executionInfo": {
     "elapsed": 25,
     "status": "ok",
     "timestamp": 1651179042342,
     "user": {
      "displayName": "Matt Russo",
      "userId": "14188021989396943812"
     },
     "user_tz": -120
    },
    "id": "gross-mixer",
    "outputId": "d62b373e-e77d-4b15-fdbe-e55284c15e2c"
   },
   "outputs": [
    {
     "name": "stdout",
     "output_type": "stream",
     "text": [
      "Model testing performance:\n",
      "--------------------------\n",
      "R2_score \t: 0.9843529333146783\n",
      "MAE \t\t: 0.4896798044803816\n",
      "MSE \t\t: 0.4417505510403749\n",
      "RMSE \t\t: 0.6646431757269271\n"
     ]
    }
   ],
   "source": [
    "eval_metric(y_test, y_pred)"
   ]
  },
  {
   "cell_type": "code",
   "execution_count": 35,
   "id": "revolutionary-release",
   "metadata": {
    "executionInfo": {
     "elapsed": 25,
     "status": "ok",
     "timestamp": 1651179042343,
     "user": {
      "displayName": "Matt Russo",
      "userId": "14188021989396943812"
     },
     "user_tz": -120
    },
    "id": "revolutionary-release"
   },
   "outputs": [],
   "source": [
    "y_train_pred = model_poly.predict(X_train)"
   ]
  },
  {
   "cell_type": "code",
   "execution_count": 36,
   "id": "available-minimum",
   "metadata": {
    "colab": {
     "base_uri": "https://localhost:8080/"
    },
    "executionInfo": {
     "elapsed": 26,
     "status": "ok",
     "timestamp": 1651179042345,
     "user": {
      "displayName": "Matt Russo",
      "userId": "14188021989396943812"
     },
     "user_tz": -120
    },
    "id": "available-minimum",
    "outputId": "f132c899-0fc8-47dd-81f5-73ff0dd2bfdf"
   },
   "outputs": [
    {
     "name": "stdout",
     "output_type": "stream",
     "text": [
      "Model testing performance:\n",
      "--------------------------\n",
      "R2_score \t: 0.9868638137712757\n",
      "MAE \t\t: 0.40492481391516394\n",
      "MSE \t\t: 0.3456939142443995\n",
      "RMSE \t\t: 0.5879574085292228\n"
     ]
    }
   ],
   "source": [
    "eval_metric(y_train, y_train_pred)"
   ]
  },
  {
   "cell_type": "markdown",
   "id": "distant-subscription",
   "metadata": {
    "id": "distant-subscription"
   },
   "source": [
    "* Simple Linear Regression:\n",
    "    * MAE      : 1.213\n",
    "    * RMSE     : 1.516\n",
    "    * r2_score : 0.8609\n",
    "\n",
    "* Polynomial 2-degree:\n",
    "    * MAE      : 0.48\n",
    "    * RMSE     : 0.66\n",
    "    * r2_score : 0.9868"
   ]
  },
  {
   "cell_type": "markdown",
   "id": "referenced-lebanon",
   "metadata": {
    "id": "referenced-lebanon"
   },
   "source": [
    "## Let's find optimal degree of poly"
   ]
  },
  {
   "cell_type": "code",
   "execution_count": 37,
   "id": "analyzed-generator",
   "metadata": {
    "executionInfo": {
     "elapsed": 25,
     "status": "ok",
     "timestamp": 1651179042346,
     "user": {
      "displayName": "Matt Russo",
      "userId": "14188021989396943812"
     },
     "user_tz": -120
    },
    "id": "analyzed-generator"
   },
   "outputs": [],
   "source": [
    "def poly(d):\n",
    "    \n",
    "    train_rmse_errors = []\n",
    "    test_rmse_errors = []\n",
    "    number_of_features = []\n",
    "    \n",
    "    for i in range(1, d):\n",
    "        polynomial_converter = PolynomialFeatures(degree = i, include_bias =False)\n",
    "        poly_features = polynomial_converter.fit_transform(X)\n",
    "        \n",
    "        X_train, X_test, y_train, y_test = train_test_split(poly_features, y, test_size=0.3, random_state=101)\n",
    "        \n",
    "        model = LinearRegression(fit_intercept=True)\n",
    "        model.fit(X_train, y_train)\n",
    "        \n",
    "        train_pred = model.predict(X_train)\n",
    "        test_pred = model.predict(X_test)\n",
    "        \n",
    "        train_RMSE = np.sqrt(mean_squared_error(y_train,train_pred))\n",
    "        test_RMSE = np.sqrt(mean_squared_error(y_test,test_pred))\n",
    "        \n",
    "        train_rmse_errors.append(train_RMSE)\n",
    "        test_rmse_errors.append(test_RMSE)\n",
    "        \n",
    "        number_of_features.append(poly_features.shape[1])\n",
    "        \n",
    "    return pd.DataFrame({\"train_rmse_errors\": train_rmse_errors, \"test_rmse_errors\":test_rmse_errors, \"number of features\":number_of_features}, \n",
    "                        index=range(1,d))\n",
    "        "
   ]
  },
  {
   "cell_type": "code",
   "execution_count": 38,
   "id": "simple-synthesis",
   "metadata": {
    "colab": {
     "base_uri": "https://localhost:8080/",
     "height": 332
    },
    "executionInfo": {
     "elapsed": 26,
     "status": "ok",
     "timestamp": 1651179042348,
     "user": {
      "displayName": "Matt Russo",
      "userId": "14188021989396943812"
     },
     "user_tz": -120
    },
    "id": "simple-synthesis",
    "outputId": "41680842-e069-4bc7-f273-809f33e6c4c3"
   },
   "outputs": [
    {
     "data": {
      "text/html": [
       "<div>\n",
       "<style scoped>\n",
       "    .dataframe tbody tr th:only-of-type {\n",
       "        vertical-align: middle;\n",
       "    }\n",
       "\n",
       "    .dataframe tbody tr th {\n",
       "        vertical-align: top;\n",
       "    }\n",
       "\n",
       "    .dataframe thead th {\n",
       "        text-align: right;\n",
       "    }\n",
       "</style>\n",
       "<table border=\"1\" class=\"dataframe\">\n",
       "  <thead>\n",
       "    <tr style=\"text-align: right;\">\n",
       "      <th></th>\n",
       "      <th>train_rmse_errors</th>\n",
       "      <th>test_rmse_errors</th>\n",
       "      <th>number of features</th>\n",
       "    </tr>\n",
       "  </thead>\n",
       "  <tbody>\n",
       "    <tr>\n",
       "      <th>1</th>\n",
       "      <td>1.734594</td>\n",
       "      <td>1.516152</td>\n",
       "      <td>3</td>\n",
       "    </tr>\n",
       "    <tr>\n",
       "      <th>2</th>\n",
       "      <td>0.587957</td>\n",
       "      <td>0.664643</td>\n",
       "      <td>9</td>\n",
       "    </tr>\n",
       "    <tr>\n",
       "      <th>3</th>\n",
       "      <td>0.433934</td>\n",
       "      <td>0.580329</td>\n",
       "      <td>19</td>\n",
       "    </tr>\n",
       "    <tr>\n",
       "      <th>4</th>\n",
       "      <td>0.351708</td>\n",
       "      <td>0.507774</td>\n",
       "      <td>34</td>\n",
       "    </tr>\n",
       "    <tr>\n",
       "      <th>5</th>\n",
       "      <td>0.250934</td>\n",
       "      <td>2.575831</td>\n",
       "      <td>55</td>\n",
       "    </tr>\n",
       "    <tr>\n",
       "      <th>6</th>\n",
       "      <td>0.197126</td>\n",
       "      <td>4.492669</td>\n",
       "      <td>83</td>\n",
       "    </tr>\n",
       "    <tr>\n",
       "      <th>7</th>\n",
       "      <td>5.421420</td>\n",
       "      <td>1381.404374</td>\n",
       "      <td>119</td>\n",
       "    </tr>\n",
       "    <tr>\n",
       "      <th>8</th>\n",
       "      <td>0.141804</td>\n",
       "      <td>4449.599765</td>\n",
       "      <td>164</td>\n",
       "    </tr>\n",
       "    <tr>\n",
       "      <th>9</th>\n",
       "      <td>0.166544</td>\n",
       "      <td>95891.245438</td>\n",
       "      <td>219</td>\n",
       "    </tr>\n",
       "  </tbody>\n",
       "</table>\n",
       "</div>"
      ],
      "text/plain": [
       "   train_rmse_errors  test_rmse_errors  number of features\n",
       "1           1.734594          1.516152                   3\n",
       "2           0.587957          0.664643                   9\n",
       "3           0.433934          0.580329                  19\n",
       "4           0.351708          0.507774                  34\n",
       "5           0.250934          2.575831                  55\n",
       "6           0.197126          4.492669                  83\n",
       "7           5.421420       1381.404374                 119\n",
       "8           0.141804       4449.599765                 164\n",
       "9           0.166544      95891.245438                 219"
      ]
     },
     "execution_count": 38,
     "metadata": {},
     "output_type": "execute_result"
    }
   ],
   "source": [
    "poly(10)"
   ]
  },
  {
   "cell_type": "code",
   "execution_count": 39,
   "id": "obvious-mobility",
   "metadata": {
    "colab": {
     "base_uri": "https://localhost:8080/",
     "height": 281
    },
    "executionInfo": {
     "elapsed": 1002,
     "status": "ok",
     "timestamp": 1651179043326,
     "user": {
      "displayName": "Matt Russo",
      "userId": "14188021989396943812"
     },
     "user_tz": -120
    },
    "id": "obvious-mobility",
    "outputId": "637b5c99-726e-46c3-ac96-033b4167393c"
   },
   "outputs": [
    {
     "data": {
      "image/png": "[encoded data removed]",
      "text/plain": [
       "<Figure size 720x432 with 1 Axes>"
      ]
     },
     "metadata": {
      "needs_background": "light"
     },
     "output_type": "display_data"
    }
   ],
   "source": [
    "plt.plot(range(1,10), poly(10)[\"train_rmse_errors\"], label = \"TRAIN\")\n",
    "plt.plot(range(1,10), poly(10)[\"test_rmse_errors\"], label = \"TEST\")\n",
    "plt.xlabel(\"Polynamial Complex\")\n",
    "plt.ylabel(\"RMSE\")\n",
    "plt.legend();"
   ]
  },
  {
   "cell_type": "code",
   "execution_count": 40,
   "id": "southern-colonial",
   "metadata": {
    "colab": {
     "base_uri": "https://localhost:8080/",
     "height": 279
    },
    "executionInfo": {
     "elapsed": 528,
     "status": "ok",
     "timestamp": 1651179043850,
     "user": {
      "displayName": "Matt Russo",
      "userId": "14188021989396943812"
     },
     "user_tz": -120
    },
    "id": "southern-colonial",
    "outputId": "0432516c-2a11-4f99-dcf0-c73a15177d53"
   },
   "outputs": [
    {
     "data": {
      "image/png": "[encoded data removed]",
      "text/plain": [
       "<Figure size 720x432 with 1 Axes>"
      ]
     },
     "metadata": {
      "needs_background": "light"
     },
     "output_type": "display_data"
    }
   ],
   "source": [
    "plt.plot(range(1,6), poly(6)[\"train_rmse_errors\"], label = \"TRAIN\")\n",
    "plt.plot(range(1,6), poly(6)[\"test_rmse_errors\"], label = \"TEST\")\n",
    "plt.xlabel(\"Polynamial Complex\")\n",
    "plt.ylabel(\"RMSE\")\n",
    "plt.legend();"
   ]
  },
  {
   "cell_type": "markdown",
   "id": "continuing-patrick",
   "metadata": {
    "id": "continuing-patrick"
   },
   "source": [
    "## Finalizing Model Choice"
   ]
  },
  {
   "cell_type": "code",
   "execution_count": 41,
   "id": "right-samuel",
   "metadata": {
    "executionInfo": {
     "elapsed": 42,
     "status": "ok",
     "timestamp": 1651179043851,
     "user": {
      "displayName": "Matt Russo",
      "userId": "14188021989396943812"
     },
     "user_tz": -120
    },
    "id": "right-samuel"
   },
   "outputs": [],
   "source": [
    "final_poly_converter = PolynomialFeatures(degree = 3, include_bias=False)"
   ]
  },
  {
   "cell_type": "code",
   "execution_count": 42,
   "id": "matched-singapore",
   "metadata": {
    "executionInfo": {
     "elapsed": 45,
     "status": "ok",
     "timestamp": 1651179043856,
     "user": {
      "displayName": "Matt Russo",
      "userId": "14188021989396943812"
     },
     "user_tz": -120
    },
    "id": "matched-singapore"
   },
   "outputs": [],
   "source": [
    "final_model = LinearRegression()"
   ]
  },
  {
   "cell_type": "code",
   "execution_count": 43,
   "id": "primary-regular",
   "metadata": {
    "colab": {
     "base_uri": "https://localhost:8080/"
    },
    "executionInfo": {
     "elapsed": 47,
     "status": "ok",
     "timestamp": 1651179043860,
     "user": {
      "displayName": "Matt Russo",
      "userId": "14188021989396943812"
     },
     "user_tz": -120
    },
    "id": "primary-regular",
    "outputId": "86afa90a-74ef-435b-98e1-976247deebbb"
   },
   "outputs": [
    {
     "data": {
      "text/html": [
       "<style>#sk-container-id-4 {color: black;background-color: white;}#sk-container-id-4 pre{padding: 0;}#sk-container-id-4 div.sk-toggleable {background-color: white;}#sk-container-id-4 label.sk-toggleable__label {cursor: pointer;display: block;width: 100%;margin-bottom: 0;padding: 0.3em;box-sizing: border-box;text-align: center;}#sk-container-id-4 label.sk-toggleable__label-arrow:before {content: \"▸\";float: left;margin-right: 0.25em;color: #696969;}#sk-container-id-4 label.sk-toggleable__label-arrow:hover:before {color: black;}#sk-container-id-4 div.sk-estimator:hover label.sk-toggleable__label-arrow:before {color: black;}#sk-container-id-4 div.sk-toggleable__content {max-height: 0;max-width: 0;overflow: hidden;text-align: left;background-color: #f0f8ff;}#sk-container-id-4 div.sk-toggleable__content pre {margin: 0.2em;color: black;border-radius: 0.25em;background-color: #f0f8ff;}#sk-container-id-4 input.sk-toggleable__control:checked~div.sk-toggleable__content {max-height: 200px;max-width: 100%;overflow: auto;}#sk-container-id-4 input.sk-toggleable__control:checked~label.sk-toggleable__label-arrow:before {content: \"▾\";}#sk-container-id-4 div.sk-estimator input.sk-toggleable__control:checked~label.sk-toggleable__label {background-color: #d4ebff;}#sk-container-id-4 div.sk-label input.sk-toggleable__control:checked~label.sk-toggleable__label {background-color: #d4ebff;}#sk-container-id-4 input.sk-hidden--visually {border: 0;clip: rect(1px 1px 1px 1px);clip: rect(1px, 1px, 1px, 1px);height: 1px;margin: -1px;overflow: hidden;padding: 0;position: absolute;width: 1px;}#sk-container-id-4 div.sk-estimator {font-family: monospace;background-color: #f0f8ff;border: 1px dotted black;border-radius: 0.25em;box-sizing: border-box;margin-bottom: 0.5em;}#sk-container-id-4 div.sk-estimator:hover {background-color: #d4ebff;}#sk-container-id-4 div.sk-parallel-item::after {content: \"\";width: 100%;border-bottom: 1px solid gray;flex-grow: 1;}#sk-container-id-4 div.sk-label:hover label.sk-toggleable__label {background-color: #d4ebff;}#sk-container-id-4 div.sk-serial::before {content: \"\";position: absolute;border-left: 1px solid gray;box-sizing: border-box;top: 0;bottom: 0;left: 50%;z-index: 0;}#sk-container-id-4 div.sk-serial {display: flex;flex-direction: column;align-items: center;background-color: white;padding-right: 0.2em;padding-left: 0.2em;position: relative;}#sk-container-id-4 div.sk-item {position: relative;z-index: 1;}#sk-container-id-4 div.sk-parallel {display: flex;align-items: stretch;justify-content: center;background-color: white;position: relative;}#sk-container-id-4 div.sk-item::before, #sk-container-id-4 div.sk-parallel-item::before {content: \"\";position: absolute;border-left: 1px solid gray;box-sizing: border-box;top: 0;bottom: 0;left: 50%;z-index: -1;}#sk-container-id-4 div.sk-parallel-item {display: flex;flex-direction: column;z-index: 1;position: relative;background-color: white;}#sk-container-id-4 div.sk-parallel-item:first-child::after {align-self: flex-end;width: 50%;}#sk-container-id-4 div.sk-parallel-item:last-child::after {align-self: flex-start;width: 50%;}#sk-container-id-4 div.sk-parallel-item:only-child::after {width: 0;}#sk-container-id-4 div.sk-dashed-wrapped {border: 1px dashed gray;margin: 0 0.4em 0.5em 0.4em;box-sizing: border-box;padding-bottom: 0.4em;background-color: white;}#sk-container-id-4 div.sk-label label {font-family: monospace;font-weight: bold;display: inline-block;line-height: 1.2em;}#sk-container-id-4 div.sk-label-container {text-align: center;}#sk-container-id-4 div.sk-container {/* jupyter's `normalize.less` sets `[hidden] { display: none; }` but bootstrap.min.css set `[hidden] { display: none !important; }` so we also need the `!important` here to be able to override the default hidden behavior on the sphinx rendered scikit-learn.org. See: https://github.com/scikit-learn/scikit-learn/issues/21755 */display: inline-block !important;position: relative;}#sk-container-id-4 div.sk-text-repr-fallback {display: none;}</style><div id=\"sk-container-id-4\" class=\"sk-top-container\"><div class=\"sk-text-repr-fallback\"><pre>LinearRegression()</pre><b>In a Jupyter environment, please rerun this cell to show the HTML representation or trust the notebook. <br />On GitHub, the HTML representation is unable to render, please try loading this page with nbviewer.org.</b></div><div class=\"sk-container\" hidden><div class=\"sk-item\"><div class=\"sk-estimator sk-toggleable\"><input class=\"sk-toggleable__control sk-hidden--visually\" id=\"sk-estimator-id-4\" type=\"checkbox\" checked><label for=\"sk-estimator-id-4\" class=\"sk-toggleable__label sk-toggleable__label-arrow\">LinearRegression</label><div class=\"sk-toggleable__content\"><pre>LinearRegression()</pre></div></div></div></div></div>"
      ],
      "text/plain": [
       "LinearRegression()"
      ]
     },
     "execution_count": 43,
     "metadata": {},
     "output_type": "execute_result"
    }
   ],
   "source": [
    "final_model.fit(final_poly_converter.fit_transform(X), y)"
   ]
  },
  {
   "cell_type": "markdown",
   "id": "broadband-terrorist",
   "metadata": {
    "id": "broadband-terrorist"
   },
   "source": [
    "## Predictions"
   ]
  },
  {
   "cell_type": "code",
   "execution_count": 44,
   "id": "coordinate-outdoors",
   "metadata": {
    "executionInfo": {
     "elapsed": 45,
     "status": "ok",
     "timestamp": 1651179043861,
     "user": {
      "displayName": "Matt Russo",
      "userId": "14188021989396943812"
     },
     "user_tz": -120
    },
    "id": "coordinate-outdoors"
   },
   "outputs": [],
   "source": [
    "new_record = [[150, 20, 15]]"
   ]
  },
  {
   "cell_type": "code",
   "execution_count": 45,
   "id": "varied-jonathan",
   "metadata": {
    "executionInfo": {
     "elapsed": 45,
     "status": "ok",
     "timestamp": 1651179043862,
     "user": {
      "displayName": "Matt Russo",
      "userId": "14188021989396943812"
     },
     "user_tz": -120
    },
    "id": "varied-jonathan"
   },
   "outputs": [],
   "source": [
    "new_record_poly = final_poly_converter.fit_transform(new_record)"
   ]
  },
  {
   "cell_type": "code",
   "execution_count": 46,
   "id": "rocky-weapon",
   "metadata": {
    "colab": {
     "base_uri": "https://localhost:8080/"
    },
    "executionInfo": {
     "elapsed": 47,
     "status": "ok",
     "timestamp": 1651179043865,
     "user": {
      "displayName": "Matt Russo",
      "userId": "14188021989396943812"
     },
     "user_tz": -120
    },
    "id": "rocky-weapon",
    "outputId": "62c86cb3-e51b-491f-a6fc-77a0dc478979"
   },
   "outputs": [
    {
     "data": {
      "text/plain": [
       "array([[1.500e+02, 2.000e+01, 1.500e+01, 2.250e+04, 3.000e+03, 2.250e+03,\n",
       "        4.000e+02, 3.000e+02, 2.250e+02, 3.375e+06, 4.500e+05, 3.375e+05,\n",
       "        6.000e+04, 4.500e+04, 3.375e+04, 8.000e+03, 6.000e+03, 4.500e+03,\n",
       "        3.375e+03]])"
      ]
     },
     "execution_count": 46,
     "metadata": {},
     "output_type": "execute_result"
    }
   ],
   "source": [
    "new_record_poly"
   ]
  },
  {
   "cell_type": "code",
   "execution_count": 47,
   "id": "legitimate-example",
   "metadata": {
    "colab": {
     "base_uri": "https://localhost:8080/"
    },
    "executionInfo": {
     "elapsed": 40,
     "status": "ok",
     "timestamp": 1651179043866,
     "user": {
      "displayName": "Matt Russo",
      "userId": "14188021989396943812"
     },
     "user_tz": -120
    },
    "id": "legitimate-example",
    "outputId": "f360131e-3d29-4273-dfef-a79e59aedf64"
   },
   "outputs": [
    {
     "data": {
      "text/plain": [
       "array([14.24950844])"
      ]
     },
     "execution_count": 47,
     "metadata": {},
     "output_type": "execute_result"
    }
   ],
   "source": [
    "final_model.predict(new_record_poly) "
   ]
  },
  {
   "cell_type": "markdown",
   "id": "sweet-document",
   "metadata": {
    "id": "sweet-document"
   },
   "source": [
    "## Overfitting"
   ]
  },
  {
   "cell_type": "code",
   "execution_count": 48,
   "id": "micro-worship",
   "metadata": {
    "executionInfo": {
     "elapsed": 37,
     "status": "ok",
     "timestamp": 1651179043868,
     "user": {
      "displayName": "Matt Russo",
      "userId": "14188021989396943812"
     },
     "user_tz": -120
    },
    "id": "micro-worship"
   },
   "outputs": [],
   "source": [
    "over_poly_converter = PolynomialFeatures(degree =5, include_bias =False)"
   ]
  },
  {
   "cell_type": "code",
   "execution_count": 49,
   "id": "therapeutic-father",
   "metadata": {
    "executionInfo": {
     "elapsed": 38,
     "status": "ok",
     "timestamp": 1651179043870,
     "user": {
      "displayName": "Matt Russo",
      "userId": "14188021989396943812"
     },
     "user_tz": -120
    },
    "id": "therapeutic-father"
   },
   "outputs": [],
   "source": [
    "over_model = LinearRegression()"
   ]
  },
  {
   "cell_type": "code",
   "execution_count": 50,
   "id": "little-video",
   "metadata": {
    "executionInfo": {
     "elapsed": 39,
     "status": "ok",
     "timestamp": 1651179043872,
     "user": {
      "displayName": "Matt Russo",
      "userId": "14188021989396943812"
     },
     "user_tz": -120
    },
    "id": "little-video"
   },
   "outputs": [],
   "source": [
    "X_train, X_test, y_train, y_test = train_test_split(over_poly_converter.fit_transform(X), y, test_size=0.3, random_state=101)"
   ]
  },
  {
   "cell_type": "code",
   "execution_count": 51,
   "id": "precious-lighter",
   "metadata": {
    "colab": {
     "base_uri": "https://localhost:8080/"
    },
    "executionInfo": {
     "elapsed": 41,
     "status": "ok",
     "timestamp": 1651179043874,
     "user": {
      "displayName": "Matt Russo",
      "userId": "14188021989396943812"
     },
     "user_tz": -120
    },
    "id": "precious-lighter",
    "outputId": "958d5096-8b2c-460c-f77b-c2bbcb36c933"
   },
   "outputs": [
    {
     "data": {
      "text/html": [
       "<style>#sk-container-id-5 {color: black;background-color: white;}#sk-container-id-5 pre{padding: 0;}#sk-container-id-5 div.sk-toggleable {background-color: white;}#sk-container-id-5 label.sk-toggleable__label {cursor: pointer;display: block;width: 100%;margin-bottom: 0;padding: 0.3em;box-sizing: border-box;text-align: center;}#sk-container-id-5 label.sk-toggleable__label-arrow:before {content: \"▸\";float: left;margin-right: 0.25em;color: #696969;}#sk-container-id-5 label.sk-toggleable__label-arrow:hover:before {color: black;}#sk-container-id-5 div.sk-estimator:hover label.sk-toggleable__label-arrow:before {color: black;}#sk-container-id-5 div.sk-toggleable__content {max-height: 0;max-width: 0;overflow: hidden;text-align: left;background-color: #f0f8ff;}#sk-container-id-5 div.sk-toggleable__content pre {margin: 0.2em;color: black;border-radius: 0.25em;background-color: #f0f8ff;}#sk-container-id-5 input.sk-toggleable__control:checked~div.sk-toggleable__content {max-height: 200px;max-width: 100%;overflow: auto;}#sk-container-id-5 input.sk-toggleable__control:checked~label.sk-toggleable__label-arrow:before {content: \"▾\";}#sk-container-id-5 div.sk-estimator input.sk-toggleable__control:checked~label.sk-toggleable__label {background-color: #d4ebff;}#sk-container-id-5 div.sk-label input.sk-toggleable__control:checked~label.sk-toggleable__label {background-color: #d4ebff;}#sk-container-id-5 input.sk-hidden--visually {border: 0;clip: rect(1px 1px 1px 1px);clip: rect(1px, 1px, 1px, 1px);height: 1px;margin: -1px;overflow: hidden;padding: 0;position: absolute;width: 1px;}#sk-container-id-5 div.sk-estimator {font-family: monospace;background-color: #f0f8ff;border: 1px dotted black;border-radius: 0.25em;box-sizing: border-box;margin-bottom: 0.5em;}#sk-container-id-5 div.sk-estimator:hover {background-color: #d4ebff;}#sk-container-id-5 div.sk-parallel-item::after {content: \"\";width: 100%;border-bottom: 1px solid gray;flex-grow: 1;}#sk-container-id-5 div.sk-label:hover label.sk-toggleable__label {background-color: #d4ebff;}#sk-container-id-5 div.sk-serial::before {content: \"\";position: absolute;border-left: 1px solid gray;box-sizing: border-box;top: 0;bottom: 0;left: 50%;z-index: 0;}#sk-container-id-5 div.sk-serial {display: flex;flex-direction: column;align-items: center;background-color: white;padding-right: 0.2em;padding-left: 0.2em;position: relative;}#sk-container-id-5 div.sk-item {position: relative;z-index: 1;}#sk-container-id-5 div.sk-parallel {display: flex;align-items: stretch;justify-content: center;background-color: white;position: relative;}#sk-container-id-5 div.sk-item::before, #sk-container-id-5 div.sk-parallel-item::before {content: \"\";position: absolute;border-left: 1px solid gray;box-sizing: border-box;top: 0;bottom: 0;left: 50%;z-index: -1;}#sk-container-id-5 div.sk-parallel-item {display: flex;flex-direction: column;z-index: 1;position: relative;background-color: white;}#sk-container-id-5 div.sk-parallel-item:first-child::after {align-self: flex-end;width: 50%;}#sk-container-id-5 div.sk-parallel-item:last-child::after {align-self: flex-start;width: 50%;}#sk-container-id-5 div.sk-parallel-item:only-child::after {width: 0;}#sk-container-id-5 div.sk-dashed-wrapped {border: 1px dashed gray;margin: 0 0.4em 0.5em 0.4em;box-sizing: border-box;padding-bottom: 0.4em;background-color: white;}#sk-container-id-5 div.sk-label label {font-family: monospace;font-weight: bold;display: inline-block;line-height: 1.2em;}#sk-container-id-5 div.sk-label-container {text-align: center;}#sk-container-id-5 div.sk-container {/* jupyter's `normalize.less` sets `[hidden] { display: none; }` but bootstrap.min.css set `[hidden] { display: none !important; }` so we also need the `!important` here to be able to override the default hidden behavior on the sphinx rendered scikit-learn.org. See: https://github.com/scikit-learn/scikit-learn/issues/21755 */display: inline-block !important;position: relative;}#sk-container-id-5 div.sk-text-repr-fallback {display: none;}</style><div id=\"sk-container-id-5\" class=\"sk-top-container\"><div class=\"sk-text-repr-fallback\"><pre>LinearRegression()</pre><b>In a Jupyter environment, please rerun this cell to show the HTML representation or trust the notebook. <br />On GitHub, the HTML representation is unable to render, please try loading this page with nbviewer.org.</b></div><div class=\"sk-container\" hidden><div class=\"sk-item\"><div class=\"sk-estimator sk-toggleable\"><input class=\"sk-toggleable__control sk-hidden--visually\" id=\"sk-estimator-id-5\" type=\"checkbox\" checked><label for=\"sk-estimator-id-5\" class=\"sk-toggleable__label sk-toggleable__label-arrow\">LinearRegression</label><div class=\"sk-toggleable__content\"><pre>LinearRegression()</pre></div></div></div></div></div>"
      ],
      "text/plain": [
       "LinearRegression()"
      ]
     },
     "execution_count": 51,
     "metadata": {},
     "output_type": "execute_result"
    }
   ],
   "source": [
    "over_model.fit(X_train, y_train)"
   ]
  },
  {
   "cell_type": "code",
   "execution_count": 52,
   "id": "referenced-pride",
   "metadata": {
    "executionInfo": {
     "elapsed": 40,
     "status": "ok",
     "timestamp": 1651179043875,
     "user": {
      "displayName": "Matt Russo",
      "userId": "14188021989396943812"
     },
     "user_tz": -120
    },
    "id": "referenced-pride"
   },
   "outputs": [],
   "source": [
    "y_pred_over = over_model.predict(X_test)"
   ]
  },
  {
   "cell_type": "code",
   "execution_count": 53,
   "id": "signal-winner",
   "metadata": {
    "colab": {
     "base_uri": "https://localhost:8080/"
    },
    "executionInfo": {
     "elapsed": 39,
     "status": "ok",
     "timestamp": 1651179043876,
     "user": {
      "displayName": "Matt Russo",
      "userId": "14188021989396943812"
     },
     "user_tz": -120
    },
    "id": "signal-winner",
    "outputId": "bfd99d9f-2597-41b7-af41-5d63afc667d7"
   },
   "outputs": [
    {
     "name": "stdout",
     "output_type": "stream",
     "text": [
      "Model testing performance:\n",
      "--------------------------\n",
      "R2_score \t: 0.764987677771052\n",
      "MAE \t\t: 0.6659587783286991\n",
      "MSE \t\t: 6.634906397076024\n",
      "RMSE \t\t: 2.5758312050823564\n"
     ]
    }
   ],
   "source": [
    "eval_metric(y_test, y_pred_over)"
   ]
  },
  {
   "cell_type": "code",
   "execution_count": 54,
   "id": "adapted-accident",
   "metadata": {
    "executionInfo": {
     "elapsed": 39,
     "status": "ok",
     "timestamp": 1651179043877,
     "user": {
      "displayName": "Matt Russo",
      "userId": "14188021989396943812"
     },
     "user_tz": -120
    },
    "id": "adapted-accident"
   },
   "outputs": [],
   "source": [
    "y_train_over = over_model.predict(X_train)"
   ]
  },
  {
   "cell_type": "code",
   "execution_count": 55,
   "id": "floral-inside",
   "metadata": {
    "colab": {
     "base_uri": "https://localhost:8080/"
    },
    "executionInfo": {
     "elapsed": 38,
     "status": "ok",
     "timestamp": 1651179043877,
     "user": {
      "displayName": "Matt Russo",
      "userId": "14188021989396943812"
     },
     "user_tz": -120
    },
    "id": "floral-inside",
    "outputId": "5267b108-22b7-43d8-9603-716e4a844b68"
   },
   "outputs": [
    {
     "name": "stdout",
     "output_type": "stream",
     "text": [
      "Model testing performance:\n",
      "--------------------------\n",
      "R2_score \t: 0.9976072484752844\n",
      "MAE \t\t: 0.1862132647522389\n",
      "MSE \t\t: 0.06296802024506248\n",
      "RMSE \t\t: 0.2509342946770379\n"
     ]
    }
   ],
   "source": [
    "eval_metric(y_train, y_train_over)"
   ]
  },
  {
   "cell_type": "markdown",
   "id": "fd5f69cd",
   "metadata": {
    "id": "fd5f69cd"
   },
   "source": [
    "## Underfitting"
   ]
  },
  {
   "cell_type": "raw",
   "id": "b45a3756",
   "metadata": {
    "id": "b45a3756"
   },
   "source": [
    "Testing data performance:\n",
    "--------------------------\n",
    "R2_score \t: 0.8609466508230367\n",
    "MAE \t\t: 1.5116692224549084\n",
    "MSE \t\t: 3.796797236715222\n",
    "RMSE \t\t: 1.9485372043446392"
   ]
  },
  {
   "cell_type": "raw",
   "id": "da7023a7",
   "metadata": {
    "id": "da7023a7"
   },
   "source": [
    "Training data performance:\n",
    "\n",
    "---\n",
    "\n",
    "\n",
    "--------------------------\n",
    "R2_score \t: 0.9055159502227753\n",
    "MAE \t\t: 1.1581502948072524\n",
    "MSE \t\t: 2.4793551789057866\n",
    "RMSE \t\t: 1.574596830590544"
   ]
  },
  {
   "cell_type": "code",
   "execution_count": null,
   "id": "c039f8d5",
   "metadata": {
    "executionInfo": {
     "elapsed": 38,
     "status": "ok",
     "timestamp": 1651179043878,
     "user": {
      "displayName": "Matt Russo",
      "userId": "14188021989396943812"
     },
     "user_tz": -120
    },
    "id": "c039f8d5"
   },
   "outputs": [],
   "source": []
  }
 ],
 "metadata": {
  "colab": {
   "name": "ML-3 (Poly Regression-Overfiting-Underfiting).ipynb",
   "provenance": []
  },
  "kernelspec": {
   "display_name": "Python 3 (ipykernel)",
   "language": "python",
   "name": "python3"
  },
  "language_info": {
   "codemirror_mode": {
    "name": "ipython",
    "version": 3
   },
   "file_extension": ".py",
   "mimetype": "text/x-python",
   "name": "python",
   "nbconvert_exporter": "python",
   "pygments_lexer": "ipython3",
   "version": "3.9.7"
  },
  "toc": {
   "base_numbering": 1,
   "nav_menu": {},
   "number_sections": true,
   "sideBar": true,
   "skip_h1_title": false,
   "title_cell": "Table of Contents",
   "title_sidebar": "Contents",
   "toc_cell": false,
   "toc_position": {},
   "toc_section_display": true,
   "toc_window_display": false
  },
  "varInspector": {
   "cols": {
    "lenName": 16,
    "lenType": 16,
    "lenVar": 40
   },
   "kernels_config": {
    "python": {
     "delete_cmd_postfix": "",
     "delete_cmd_prefix": "del ",
     "library": "var_list.py",
     "varRefreshCmd": "print(var_dic_list())"
    },
    "r": {
     "delete_cmd_postfix": ") ",
     "delete_cmd_prefix": "rm(",
     "library": "var_list.r",
     "varRefreshCmd": "cat(var_dic_list()) "
    }
   },
   "types_to_exclude": [
    "module",
    "function",
    "builtin_function_or_method",
    "instance",
    "_Feature"
   ],
   "window_display": false
  }
 },
 "nbformat": 4,
 "nbformat_minor": 5
}
